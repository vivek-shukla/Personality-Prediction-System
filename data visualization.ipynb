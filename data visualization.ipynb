{
 "cells": [
  {
   "cell_type": "code",
   "execution_count": 498,
   "metadata": {},
   "outputs": [],
   "source": [
    "#Split-Module\n",
    "import pandas as pd\n",
    "import numpy as np\n",
    "import random\n",
    "import copy\n",
    "from sklearn.model_selection import cross_val_score\n",
    "from sklearn import svm\n",
    "from sklearn import preprocessing\n",
    "from sklearn.linear_model import LogisticRegression\n",
    "from sklearn.naive_bayes import GaussianNB\n",
    "from sklearn.manifold import TSNE\n",
    "import matplotlib.pyplot as plt\n",
    "import seaborn as sns\n",
    "import pandas as pd\n",
    "from sklearn.preprocessing import StandardScaler\n",
    "import warnings\n",
    "warnings.filterwarnings(\"ignore\")"
   ]
  },
  {
   "cell_type": "code",
   "execution_count": 620,
   "metadata": {},
   "outputs": [
    {
     "data": {
      "text/plain": [
       "'/Users/suraj/personality'"
      ]
     },
     "execution_count": 620,
     "metadata": {},
     "output_type": "execute_result"
    }
   ],
   "source": [
    "pwd"
   ]
  },
  {
   "cell_type": "code",
   "execution_count": 499,
   "metadata": {},
   "outputs": [
    {
     "name": "stdout",
     "output_type": "stream",
     "text": [
      "\u001b[34mPersonality-prediction-system\u001b[m\u001b[m test.csv\r\n",
      "data visualization.ipynb      train dataset.csv\r\n",
      "dataset.csv                   train.csv\r\n",
      "split.py\r\n"
     ]
    }
   ],
   "source": [
    "!ls"
   ]
  },
  {
   "cell_type": "code",
   "execution_count": 579,
   "metadata": {},
   "outputs": [],
   "source": [
    "df = pd.read_csv('./train dataset.csv')"
   ]
  },
  {
   "cell_type": "code",
   "execution_count": 580,
   "metadata": {},
   "outputs": [],
   "source": [
    "df1 = pd.read_csv('./test.csv')"
   ]
  },
  {
   "cell_type": "code",
   "execution_count": 581,
   "metadata": {},
   "outputs": [
    {
     "data": {
      "text/html": [
       "<div>\n",
       "<style scoped>\n",
       "    .dataframe tbody tr th:only-of-type {\n",
       "        vertical-align: middle;\n",
       "    }\n",
       "\n",
       "    .dataframe tbody tr th {\n",
       "        vertical-align: top;\n",
       "    }\n",
       "\n",
       "    .dataframe thead th {\n",
       "        text-align: right;\n",
       "    }\n",
       "</style>\n",
       "<table border=\"1\" class=\"dataframe\">\n",
       "  <thead>\n",
       "    <tr style=\"text-align: right;\">\n",
       "      <th></th>\n",
       "      <th>Gender</th>\n",
       "      <th>Age</th>\n",
       "      <th>openness</th>\n",
       "      <th>neuroticism</th>\n",
       "      <th>conscientiousness</th>\n",
       "      <th>agreeableness</th>\n",
       "      <th>extraversion</th>\n",
       "      <th>Personality (Class label)</th>\n",
       "      <th>split</th>\n",
       "    </tr>\n",
       "  </thead>\n",
       "  <tbody>\n",
       "    <tr>\n",
       "      <th>0</th>\n",
       "      <td>Female</td>\n",
       "      <td>22</td>\n",
       "      <td>5</td>\n",
       "      <td>6</td>\n",
       "      <td>7</td>\n",
       "      <td>4</td>\n",
       "      <td>3</td>\n",
       "      <td>extraverted</td>\n",
       "      <td>-0.546277</td>\n",
       "    </tr>\n",
       "    <tr>\n",
       "      <th>1</th>\n",
       "      <td>Male</td>\n",
       "      <td>18</td>\n",
       "      <td>5</td>\n",
       "      <td>7</td>\n",
       "      <td>7</td>\n",
       "      <td>6</td>\n",
       "      <td>4</td>\n",
       "      <td>lively</td>\n",
       "      <td>-1.860887</td>\n",
       "    </tr>\n",
       "    <tr>\n",
       "      <th>2</th>\n",
       "      <td>Male</td>\n",
       "      <td>18</td>\n",
       "      <td>5</td>\n",
       "      <td>7</td>\n",
       "      <td>5</td>\n",
       "      <td>6</td>\n",
       "      <td>7</td>\n",
       "      <td>dependable</td>\n",
       "      <td>0.507700</td>\n",
       "    </tr>\n",
       "    <tr>\n",
       "      <th>3</th>\n",
       "      <td>Female</td>\n",
       "      <td>19</td>\n",
       "      <td>5</td>\n",
       "      <td>5</td>\n",
       "      <td>4</td>\n",
       "      <td>5</td>\n",
       "      <td>4</td>\n",
       "      <td>responsible</td>\n",
       "      <td>0.203347</td>\n",
       "    </tr>\n",
       "    <tr>\n",
       "      <th>4</th>\n",
       "      <td>Male</td>\n",
       "      <td>19</td>\n",
       "      <td>5</td>\n",
       "      <td>6</td>\n",
       "      <td>4</td>\n",
       "      <td>6</td>\n",
       "      <td>3</td>\n",
       "      <td>extraverted</td>\n",
       "      <td>1.135883</td>\n",
       "    </tr>\n",
       "  </tbody>\n",
       "</table>\n",
       "</div>"
      ],
      "text/plain": [
       "   Gender  Age  openness  neuroticism  conscientiousness  agreeableness  \\\n",
       "0  Female   22         5            6                  7              4   \n",
       "1    Male   18         5            7                  7              6   \n",
       "2    Male   18         5            7                  5              6   \n",
       "3  Female   19         5            5                  4              5   \n",
       "4    Male   19         5            6                  4              6   \n",
       "\n",
       "   extraversion Personality (Class label)     split  \n",
       "0             3               extraverted -0.546277  \n",
       "1             4                    lively -1.860887  \n",
       "2             7                dependable  0.507700  \n",
       "3             4               responsible  0.203347  \n",
       "4             3               extraverted  1.135883  "
      ]
     },
     "execution_count": 581,
     "metadata": {},
     "output_type": "execute_result"
    }
   ],
   "source": [
    "df1.head()"
   ]
  },
  {
   "cell_type": "code",
   "execution_count": null,
   "metadata": {},
   "outputs": [],
   "source": []
  },
  {
   "cell_type": "code",
   "execution_count": 582,
   "metadata": {},
   "outputs": [],
   "source": [
    "dataset=[]\n",
    "gender = df['Gender']\n",
    "age = df['Age']\n",
    "openness = df['openness']\n",
    "neuroticism = df['neuroticism']\n",
    "conscientiousness = df['conscientiousness']\n",
    "agreeableness = df['agreeableness']\n",
    "extraversion = df['extraversion']\n",
    "label = df['Personality (Class label)']\n",
    "\n",
    "\n"
   ]
  },
  {
   "cell_type": "code",
   "execution_count": null,
   "metadata": {},
   "outputs": [],
   "source": []
  },
  {
   "cell_type": "code",
   "execution_count": 583,
   "metadata": {},
   "outputs": [],
   "source": [
    "dataset1=[]\n",
    "gender1 = df1['Gender']\n",
    "age1 = df1['Age']\n",
    "openness1 = df1['openness']\n",
    "neuroticism1= df1['neuroticism']\n",
    "conscientiousness1 = df1['conscientiousness']\n",
    "agreeableness1 = df1['agreeableness']\n",
    "extraversion1 = df1['extraversion']\n",
    "label1 = df1['Personality (Class label)']\n",
    "\n"
   ]
  },
  {
   "cell_type": "code",
   "execution_count": 584,
   "metadata": {},
   "outputs": [],
   "source": [
    "test_length = len(gender1)"
   ]
  },
  {
   "cell_type": "code",
   "execution_count": 585,
   "metadata": {},
   "outputs": [
    {
     "data": {
      "text/plain": [
       "234"
      ]
     },
     "execution_count": 585,
     "metadata": {},
     "output_type": "execute_result"
    }
   ],
   "source": [
    "test_length"
   ]
  },
  {
   "cell_type": "code",
   "execution_count": 586,
   "metadata": {},
   "outputs": [],
   "source": [
    "gender = gender.tolist() + gender1.tolist()\n",
    "age = age.tolist() + age1.tolist()\n",
    "openness = openness.tolist() + openness1.tolist()\n",
    "neuroticism = neuroticism.tolist() + neuroticism1.tolist()\n",
    "conscientiousness = conscientiousness.tolist() + conscientiousness1.tolist()\n",
    "agreeableness = agreeableness.tolist() + agreeableness1.tolist()\n",
    "extraversion = extraversion.tolist() + extraversion1.tolist()\n",
    "label = label.tolist() + label1.tolist()"
   ]
  },
  {
   "cell_type": "code",
   "execution_count": null,
   "metadata": {},
   "outputs": [],
   "source": []
  },
  {
   "cell_type": "code",
   "execution_count": 587,
   "metadata": {},
   "outputs": [
    {
     "name": "stdout",
     "output_type": "stream",
     "text": [
      "Classes : ['responsible', 'serious', 'extraverted', 'lively', 'dependable']\n"
     ]
    }
   ],
   "source": [
    "label = label\n",
    "print(\"Classes :\",list(set(label)))\n"
   ]
  },
  {
   "cell_type": "code",
   "execution_count": 588,
   "metadata": {},
   "outputs": [],
   "source": [
    "length_label = len(label)"
   ]
  },
  {
   "cell_type": "code",
   "execution_count": 589,
   "metadata": {},
   "outputs": [
    {
     "data": {
      "text/plain": [
       "943"
      ]
     },
     "execution_count": 589,
     "metadata": {},
     "output_type": "execute_result"
    }
   ],
   "source": [
    "len(label)"
   ]
  },
  {
   "cell_type": "code",
   "execution_count": 590,
   "metadata": {},
   "outputs": [],
   "source": [
    "def filter(label,gender,age,openness,neuroticism,conscientiousness,agreeableness,extraversion):\n",
    "    responsible_list= []\n",
    "    serious_list=[]\n",
    "    extraverted_list=[]\n",
    "    lively_list=[]\n",
    "    dependable_list=[]\n",
    "    for i in range(len(label)):\n",
    "        if label[i]==\"responsible\":\n",
    "            temp=[]\n",
    "            temp.append(gender[i])\n",
    "            temp.append(age[i])\n",
    "            temp.append(openness[i])\n",
    "            temp.append(neuroticism[i])\n",
    "            temp.append(conscientiousness[i])\n",
    "            temp.append(agreeableness[i])\n",
    "            temp.append(extraversion[i])\n",
    "            responsible_list.append(temp)\n",
    "        if label[i]==\"serious\":\n",
    "            temp=[]\n",
    "            temp.append(gender[i])\n",
    "            temp.append(age[i])\n",
    "            temp.append(openness[i])\n",
    "            temp.append(neuroticism[i])\n",
    "            temp.append(conscientiousness[i])\n",
    "            temp.append(agreeableness[i])\n",
    "            temp.append(extraversion[i])\n",
    "            serious_list.append(temp)\n",
    "        if label[i]==\"extraverted\":\n",
    "            temp=[]\n",
    "            temp.append(gender[i])\n",
    "            temp.append(age[i])\n",
    "            temp.append(openness[i])\n",
    "            temp.append(neuroticism[i])\n",
    "            temp.append(conscientiousness[i])\n",
    "            temp.append(agreeableness[i])\n",
    "            temp.append(extraversion[i])\n",
    "            extraverted_list.append(temp)\n",
    "        if label[i]==\"lively\":\n",
    "            temp=[]\n",
    "            temp.append(gender[i])\n",
    "            temp.append(age[i])\n",
    "            temp.append(openness[i])\n",
    "            temp.append(neuroticism[i])\n",
    "            temp.append(conscientiousness[i])\n",
    "            temp.append(agreeableness[i])\n",
    "            temp.append(extraversion[i])\n",
    "            lively_list.append(temp)\n",
    "        if label[i]==\"dependable\":\n",
    "            temp=[]\n",
    "            temp.append(gender[i])\n",
    "            temp.append(age[i])\n",
    "            temp.append(openness[i])\n",
    "            temp.append(neuroticism[i])\n",
    "            temp.append(conscientiousness[i])\n",
    "            temp.append(agreeableness[i])\n",
    "            temp.append(extraversion[i])\n",
    "            dependable_list.append(temp)\n",
    "\n",
    "    return responsible_list,serious_list,extraverted_list,lively_list,dependable_list\n",
    "\n",
    "\n"
   ]
  },
  {
   "cell_type": "code",
   "execution_count": 591,
   "metadata": {},
   "outputs": [],
   "source": [
    "responsible_list,serious_list,extraverted_list,lively_list,dependable_list = filter(label,gender,age,openness\n",
    "                                                                                    ,neuroticism,\n",
    "                                                                                    conscientiousness,\n",
    "                                                                                    agreeableness,extraversion)"
   ]
  },
  {
   "cell_type": "code",
   "execution_count": 592,
   "metadata": {},
   "outputs": [],
   "source": [
    "dependable_list.append(['Female', 18, 7, 6, 4, 5, 5])"
   ]
  },
  {
   "cell_type": "code",
   "execution_count": 593,
   "metadata": {},
   "outputs": [
    {
     "name": "stdout",
     "output_type": "stream",
     "text": [
      "Data points in each class:  176 215 200 177 176\n"
     ]
    }
   ],
   "source": [
    "print(\"Data points in each class: \",len(responsible_list),len(serious_list),len(extraverted_list),\n",
    "      len(lively_list),len(dependable_list))"
   ]
  },
  {
   "cell_type": "markdown",
   "metadata": {},
   "source": [
    "# Random indices selection"
   ]
  },
  {
   "cell_type": "code",
   "execution_count": null,
   "metadata": {},
   "outputs": [],
   "source": []
  },
  {
   "cell_type": "code",
   "execution_count": 549,
   "metadata": {},
   "outputs": [],
   "source": [
    "def random_selection(source_num,label,list_label,target_num):\n",
    "    label = [i for i in range(source_num)]\n",
    "    random_label = random.sample(label,target_num)\n",
    "    \n",
    "    list_label = [list_label[random_label[i]] for i in range(len(random_label))]\n",
    "    return list_label"
   ]
  },
  {
   "cell_type": "code",
   "execution_count": 550,
   "metadata": {},
   "outputs": [],
   "source": [
    "###No need to do for responsible class\n",
    "# Serious label\n",
    "serious_list_main = random_selection(len(serious_list),label,serious_list,len(responsible_list))\n",
    "#Extraverted list\n",
    "\n",
    "extraverted_list_main = random_selection(len(extraverted_list),label,extraverted_list,len(responsible_list))\n",
    "\n",
    "##Lively list\n",
    "\n",
    "lively_list_main = random_selection(len(lively_list),label,lively_list,len(responsible_list))\n",
    "\n",
    "##Dependable List\n",
    "dependable_list_main = random_selection(len(dependable_list),label,dependable_list,len(responsible_list))\n",
    "responsible_list_main = copy.deepcopy(responsible_list)"
   ]
  },
  {
   "cell_type": "code",
   "execution_count": null,
   "metadata": {},
   "outputs": [],
   "source": []
  },
  {
   "cell_type": "code",
   "execution_count": 551,
   "metadata": {},
   "outputs": [],
   "source": [
    "#Converting Male =0 and Female =1\n",
    "def converter(data_point):\n",
    "    temp=[]\n",
    "    if data_point[0]=='Male':\n",
    "        temp.append(0)\n",
    "    else:\n",
    "        temp.append(1)\n",
    "    \n",
    "    data = data_point[1:]\n",
    "    temp = temp+data\n",
    "    return temp\n",
    "    "
   ]
  },
  {
   "cell_type": "code",
   "execution_count": 552,
   "metadata": {},
   "outputs": [],
   "source": [
    "def converter_data(data_list):\n",
    "    temp=[]\n",
    "    for i in range(len(data_list)):\n",
    "        temp.append(converter(data_list[i]))\n",
    "    return temp"
   ]
  },
  {
   "cell_type": "code",
   "execution_count": 553,
   "metadata": {},
   "outputs": [
    {
     "name": "stdout",
     "output_type": "stream",
     "text": [
      "Example for Converter function  [0, 20, 1, 2, 7, 6, 4]\n"
     ]
    }
   ],
   "source": [
    "print(\"Example for Converter function \",converter(['Male', 20, 1, 2, 7, 6, 4]))"
   ]
  },
  {
   "cell_type": "code",
   "execution_count": 554,
   "metadata": {},
   "outputs": [],
   "source": [
    "responsible_list_main = converter_data(responsible_list_main)"
   ]
  },
  {
   "cell_type": "code",
   "execution_count": 555,
   "metadata": {},
   "outputs": [],
   "source": [
    "serious_list_main = converter_data(serious_list_main)\n",
    "lively_list_main = converter_data(lively_list_main)\n",
    "dependable_list_main = converter_data(dependable_list_main)\n",
    "extraverted_list_main = converter_data(extraverted_list_main)\n"
   ]
  },
  {
   "cell_type": "code",
   "execution_count": 556,
   "metadata": {},
   "outputs": [],
   "source": [
    "#resposible =0 extra 1 serious 2 lively 3 dependable 4 \n",
    "dataset_main=[]\n",
    "for i in responsible_list_main:\n",
    "    \n",
    "    dataset_main.append(i + [0])\n",
    "for i in extraverted_list_main:\n",
    "    \n",
    "    dataset_main.append(i + [1])\n",
    "for i in serious_list_main:\n",
    "    \n",
    "    dataset_main.append(i + [2])\n",
    "for i in lively_list_main:\n",
    "    \n",
    "    dataset_main.append(i + [3])\n",
    "for i in dependable_list_main:\n",
    "    \n",
    "    dataset_main.append(i + [4])\n"
   ]
  },
  {
   "cell_type": "code",
   "execution_count": null,
   "metadata": {},
   "outputs": [],
   "source": []
  },
  {
   "cell_type": "code",
   "execution_count": null,
   "metadata": {},
   "outputs": [],
   "source": []
  },
  {
   "cell_type": "markdown",
   "metadata": {},
   "source": [
    "# Training the data"
   ]
  },
  {
   "cell_type": "code",
   "execution_count": 557,
   "metadata": {},
   "outputs": [],
   "source": [
    "dataset_train = random.sample(dataset_main,len(dataset_main))"
   ]
  },
  {
   "cell_type": "code",
   "execution_count": 558,
   "metadata": {},
   "outputs": [],
   "source": [
    "Normalised_attrs = []\n",
    "for i in range(len(dataset_train)):\n",
    "    Normalised_attrs.append(dataset_train[i][1:7])\n",
    "\n",
    "\n",
    "scaler = StandardScaler()\n",
    "Normalised_attrs = scaler.fit_transform(Normalised_attrs)"
   ]
  },
  {
   "cell_type": "code",
   "execution_count": 559,
   "metadata": {},
   "outputs": [],
   "source": [
    "temp=[]\n",
    "for i in range(len(Normalised_attrs)):\n",
    "   \n",
    "    temp.append(list([dataset_train[i][0]])+list(Normalised_attrs[i])+list([dataset_train[i][-1]]))\n"
   ]
  },
  {
   "cell_type": "code",
   "execution_count": 562,
   "metadata": {},
   "outputs": [
    {
     "data": {
      "text/plain": [
       "880"
      ]
     },
     "execution_count": 562,
     "metadata": {},
     "output_type": "execute_result"
    }
   ],
   "source": [
    "len(data_points)"
   ]
  },
  {
   "cell_type": "code",
   "execution_count": 560,
   "metadata": {},
   "outputs": [],
   "source": [
    "universal_data = copy.deepcopy(temp)"
   ]
  },
  {
   "cell_type": "code",
   "execution_count": 561,
   "metadata": {},
   "outputs": [],
   "source": [
    "data_points=[]\n",
    "data_targets=[]\n",
    "for i in universal_data:\n",
    "    data_points.append(i[:7])\n",
    "    data_targets.append(i[7])"
   ]
  },
  {
   "cell_type": "code",
   "execution_count": 564,
   "metadata": {},
   "outputs": [],
   "source": [
    "train = data_points[:709]\n",
    "label_train = data_targets[:709]\n",
    "test = data_points[709:]\n",
    "label_test = data_targets[709:]"
   ]
  },
  {
   "cell_type": "code",
   "execution_count": 566,
   "metadata": {},
   "outputs": [],
   "source": [
    "clf = svm.SVC(kernel='rbf', C=1)"
   ]
  },
  {
   "cell_type": "code",
   "execution_count": 568,
   "metadata": {},
   "outputs": [],
   "source": [
    "train=np.array(train)\n",
    "label_train = np.array(label_train)"
   ]
  },
  {
   "cell_type": "code",
   "execution_count": 434,
   "metadata": {},
   "outputs": [],
   "source": [
    "# scaled = preprocessing.scale(data_points)"
   ]
  },
  {
   "cell_type": "code",
   "execution_count": 464,
   "metadata": {},
   "outputs": [],
   "source": []
  },
  {
   "cell_type": "code",
   "execution_count": 569,
   "metadata": {},
   "outputs": [],
   "source": [
    "model  = clf.fit(train,label_train)"
   ]
  },
  {
   "cell_type": "code",
   "execution_count": 570,
   "metadata": {},
   "outputs": [],
   "source": []
  },
  {
   "cell_type": "code",
   "execution_count": 617,
   "metadata": {},
   "outputs": [],
   "source": [
    "label_set  = list(set(label))"
   ]
  },
  {
   "cell_type": "code",
   "execution_count": 618,
   "metadata": {},
   "outputs": [],
   "source": [
    "personality={}\n",
    "for i in range(5):\n",
    "    personality[i]=label_set[i]"
   ]
  },
  {
   "cell_type": "markdown",
   "metadata": {},
   "source": [
    "# Predict"
   ]
  },
  {
   "cell_type": "code",
   "execution_count": 575,
   "metadata": {},
   "outputs": [],
   "source": [
    "predict_label = model.predict(test)"
   ]
  },
  {
   "cell_type": "code",
   "execution_count": 578,
   "metadata": {},
   "outputs": [
    {
     "name": "stdout",
     "output_type": "stream",
     "text": [
      "Accuracy of Model :  25.146198830409354\n"
     ]
    }
   ],
   "source": [
    "print(\"Accuracy of Model : \",model.score(test,label_test)*100)"
   ]
  },
  {
   "cell_type": "code",
   "execution_count": 595,
   "metadata": {},
   "outputs": [],
   "source": [
    "data_point=['Female', 19, 5, 5, 4, 5, 4]\n"
   ]
  },
  {
   "cell_type": "code",
   "execution_count": null,
   "metadata": {},
   "outputs": [],
   "source": []
  },
  {
   "cell_type": "code",
   "execution_count": 613,
   "metadata": {},
   "outputs": [],
   "source": [
    "def predict_datapoint(model,datapoint):\n",
    "    temp=[]\n",
    "    if datapoint[0]==\"Male\":\n",
    "        temp.append(0)\n",
    "    else:\n",
    "        temp.append(1)\n",
    "    data = scaler.transform([datapoint[1:]])\n",
    "    temp = temp + data.reshape(data.shape[1]).tolist()\n",
    "#     print(temp)\n",
    "    label = model.predict(np.array([temp]))\n",
    "    return label[0]"
   ]
  },
  {
   "cell_type": "code",
   "execution_count": null,
   "metadata": {},
   "outputs": [],
   "source": []
  },
  {
   "cell_type": "code",
   "execution_count": 619,
   "metadata": {},
   "outputs": [
    {
     "name": "stdout",
     "output_type": "stream",
     "text": [
      "Predicted Personality :  responsible\n"
     ]
    }
   ],
   "source": [
    "print(\"Predicted Personality : \",personality[predict_datapoint(model, data_point)])"
   ]
  },
  {
   "cell_type": "markdown",
   "metadata": {},
   "source": [
    "# Visualization "
   ]
  },
  {
   "cell_type": "code",
   "execution_count": 445,
   "metadata": {},
   "outputs": [],
   "source": [
    "tsne = TSNE(n_components=2, verbose=0, perplexity=40, n_iter=300)\n",
    "tsne_pca_results = tsne.fit_transform(data_points)"
   ]
  },
  {
   "cell_type": "code",
   "execution_count": 446,
   "metadata": {},
   "outputs": [],
   "source": [
    "df_subset = pd.DataFrame()"
   ]
  },
  {
   "cell_type": "code",
   "execution_count": 447,
   "metadata": {},
   "outputs": [],
   "source": [
    "df_subset['tsne-pca50-one'] = tsne_pca_results[:,0]\n",
    "df_subset['tsne-pca50-two'] = tsne_pca_results[:,1]"
   ]
  },
  {
   "cell_type": "code",
   "execution_count": null,
   "metadata": {},
   "outputs": [],
   "source": []
  },
  {
   "cell_type": "code",
   "execution_count": 448,
   "metadata": {},
   "outputs": [
    {
     "data": {
      "text/plain": [
       "(630, 2)"
      ]
     },
     "execution_count": 448,
     "metadata": {},
     "output_type": "execute_result"
    }
   ],
   "source": [
    "tsne_pca_results.shape"
   ]
  },
  {
   "cell_type": "code",
   "execution_count": 449,
   "metadata": {},
   "outputs": [
    {
     "data": {
      "text/plain": [
       "<Figure size 1152x288 with 0 Axes>"
      ]
     },
     "execution_count": 449,
     "metadata": {},
     "output_type": "execute_result"
    },
    {
     "data": {
      "text/plain": [
       "<Figure size 1152x288 with 0 Axes>"
      ]
     },
     "metadata": {},
     "output_type": "display_data"
    }
   ],
   "source": [
    "plt.figure(figsize=(16,4))"
   ]
  },
  {
   "cell_type": "code",
   "execution_count": 450,
   "metadata": {},
   "outputs": [
    {
     "data": {
      "text/plain": [
       "<matplotlib.axes._subplots.AxesSubplot at 0x1a18c85390>"
      ]
     },
     "execution_count": 450,
     "metadata": {},
     "output_type": "execute_result"
    },
    {
     "data": {
      "image/png": "[encoded data removed]",
      "text/plain": [
       "<Figure size 432x288 with 1 Axes>"
      ]
     },
     "metadata": {
      "needs_background": "light"
     },
     "output_type": "display_data"
    }
   ],
   "source": [
    "ax3 = plt.subplot(1, 3, 3)\n",
    "sns.scatterplot(\n",
    "    x=\"tsne-pca50-one\", y=\"tsne-pca50-two\",\n",
    "    palette=sns.color_palette(\"hls\", 10),\n",
    "    data=df_subset,\n",
    "    legend=\"full\",\n",
    "    alpha=0.3,\n",
    "    ax=ax3\n",
    ")"
   ]
  },
  {
   "cell_type": "code",
   "execution_count": null,
   "metadata": {},
   "outputs": [],
   "source": [
    "\n",
    "df = pd.read_csv('C:/Users/Dell/Desktop/Vivek/Pscript/train dataset.csv')\n",
    "df['split'] = np.random.randn(df.shape[0], 1)\n",
    "\n",
    "msk = np.random.rand(len(df)) <= 0.7\n",
    "\n",
    "train = df[msk]\n",
    "test = df[~msk]\n",
    "train.to_csv('train.csv', index=False)\n",
    "print(\"Train.csv file  created\")\n",
    "test.to_csv('test.csv', index=False)\n",
    "print(\"Test.csv file created\")"
   ]
  },
  {
   "cell_type": "code",
   "execution_count": 6,
   "metadata": {},
   "outputs": [
    {
     "data": {
      "image/png": "[encoded data removed]",
      "text/plain": [
       "<matplotlib.figure.Figure at 0x235705191d0>"
      ]
     },
     "metadata": {},
     "output_type": "display_data"
    }
   ],
   "source": [
    "#Data-Visualization\n",
    "import numpy as np\n",
    "import matplotlib.pyplot as plt\n",
    "import pandas as pd\n",
    "\n",
    "\n",
    "def load_data(path, header):\n",
    "    marks_df = pd.read_csv(path, header=header)\n",
    "    return marks_df\n",
    "\n",
    "\n",
    "if __name__ == \"__main__\":\n",
    "    # load the data from the file\n",
    "    data = load_data(\"test dataset.csv\", None)\n",
    "\n",
    "    # X = feature values, all the columns except the last column\n",
    "    X = data.iloc[:, :-1]\n",
    "\n",
    "    # y = target values, last column of the data frame\n",
    "    y = data.iloc[:, -1]\n",
    "\n",
    "    # filter out the applicants that got admitted\n",
    "    extraverted = data.loc[y == 'extraverted']\n",
    "\n",
    "    # filter out the applicants that din't get admission\n",
    "    serious = data.loc[y == 'serious']\n",
    "    dependable = data.loc[y == 'dependable']\n",
    "    lively = data.loc[y == 'lively']\n",
    "    responsible = data.loc[y == 'responsible']\n",
    "\n",
    "    # plots\n",
    "    plt.scatter(extraverted.iloc[:, 0], extraverted.iloc[:, 1], s=10, label='extraverted')\n",
    "    plt.scatter(serious.iloc[:, 0], serious.iloc[:, 1], s=10, label='serious')\n",
    "    plt.scatter(dependable.iloc[:, 0], dependable.iloc[:, 1], s=10, label='dependable')\n",
    "    plt.scatter(lively.iloc[:, 0], lively.iloc[:, 1], s=10, label='lively')\n",
    "    plt.scatter(responsible.iloc[:, 0], responsible.iloc[:, 1], s=10, label='responsible')\n",
    "    \n",
    "    plt.legend()\n",
    "    plt.show()"
   ]
  },
  {
   "cell_type": "code",
   "execution_count": 4,
   "metadata": {},
   "outputs": [
    {
     "name": "stderr",
     "output_type": "stream",
     "text": [
      "C:\\Users\\Dell\\Anaconda3\\lib\\site-packages\\sklearn\\cross_validation.py:41: DeprecationWarning: This module was deprecated in version 0.18 in favor of the model_selection module into which all the refactored classes and functions are moved. Also note that the interface of the new CV iterators are different from that of this module. This module will be removed in 0.20.\n",
      "  \"This module will be removed in 0.20.\", DeprecationWarning)\n"
     ]
    },
    {
     "name": "stdout",
     "output_type": "stream",
     "text": [
      "[[1 17 7 ... 7 3 2]\n",
      " [1 19 4 ... 4 6 6]\n",
      " [0 18 7 ... 4 5 5]\n",
      " ...\n",
      " [1 22 5 ... 3 6 1]\n",
      " [1 19 5 ... 5 7 5]\n",
      " [0 18 5 ... 7 6 5]]\n",
      "[[0 20 7 ... 9 5 5]\n",
      " [1 17 5 ... 5 2 4]\n",
      " [0 25 5 ... 7 2 4]\n",
      " ...\n",
      " [1 18 7 ... 6 2 7]\n",
      " [1 23 6 ... 5 4 3]\n",
      " [0 18 5 ... 3 5 6]]\n"
     ]
    }
   ],
   "source": [
    "#Model-Training \n",
    "import pandas as pd\n",
    "from numpy import *\n",
    "import numpy as np\n",
    "from sklearn import preprocessing\n",
    "from sklearn import datasets, linear_model\n",
    "from sklearn.metrics import mean_squared_error, r2_score\n",
    "from sklearn import metrics\n",
    "from sklearn.cross_validation import train_test_split\n",
    "from sklearn.model_selection import train_test_split\n",
    "from sklearn import neighbors\n",
    "\n",
    "data =pd.read_csv('train dataset.csv')\n",
    "array = data.values\n",
    "\n",
    "for i in range(len(array)):\n",
    "\tif array[i][0]==\"Male\":\n",
    "\t\tarray[i][0]=1\n",
    "\telse:\n",
    "\t\tarray[i][0]=0\n",
    "\n",
    "\n",
    "df=pd.DataFrame(array)\n",
    "\n",
    "maindf =df[[0,1,2,3,4,5,6]]\n",
    "mainarray=maindf.values\n",
    "print (mainarray)\n",
    "\n",
    "\n",
    "temp=df[7]\n",
    "train_y =temp.values\n",
    "# print(train_y)\n",
    "# print(mainarray)\n",
    "train_y=temp.values\n",
    "\n",
    "for i in range(len(train_y)):\n",
    "\ttrain_y[i] =str(train_y[i])\n",
    "\n",
    "\n",
    "\n",
    "mul_lr = linear_model.LogisticRegression(multi_class='multinomial', solver='newton-cg',max_iter =1000)\n",
    "mul_lr.fit(mainarray, train_y)\n",
    "\n",
    "testdata =pd.read_csv('test dataset.csv')\n",
    "test = testdata.values\n",
    "\n",
    "for i in range(len(test)):\n",
    "\tif test[i][0]==\"Male\":\n",
    "\t\ttest[i][0]=1\n",
    "\telse:\n",
    "\t\ttest[i][0]=0\n",
    "\n",
    "\n",
    "df1=pd.DataFrame(test)\n",
    "\n",
    "testdf =df1[[0,1,2,3,4,5,6]]\n",
    "maintestarray=testdf.values\n",
    "print(maintestarray)\n",
    "\n",
    "y_pred = mul_lr.predict(maintestarray)\n",
    "for i in range(len(y_pred)) :\n",
    "\ty_pred[i]=str((y_pred[i]))\n",
    "DF = pd.DataFrame(y_pred,columns=['Predicted Personality'])\n",
    "DF.index=DF.index+1\n",
    "DF.index.names = ['Person No']\n",
    "DF.to_csv(\"output.csv\")"
   ]
  },
  {
   "cell_type": "code",
   "execution_count": 1,
   "metadata": {},
   "outputs": [
    {
     "name": "stdout",
     "output_type": "stream",
     "text": [
      "  --------------------------------------------------\n",
      "           ---- WELCOME TO PERSONALITY PREDICTION SYSTEM ----\n",
      "           --------------------------------------------------\n",
      "\n",
      "          Take this psychology test to find out about your personality!\n",
      "          This test measures what many psychologists consider to be\n",
      "          the five fundamental dimensions of personality.\n",
      "\n",
      "\n",
      " To start quiz enter your name \n",
      "\n",
      "Yash \n",
      " Enter Age: \n",
      "\n",
      "19\n",
      " Enter Gender : \n",
      "\n",
      "male\n",
      "\n",
      " \n",
      " Hello Yash  Your details are as follows \n",
      " Age 19\n",
      " Gender male\n",
      "You can start the test now \n",
      "\n",
      " Directions: The following statements concern your perception about yourself\n",
      "                in a variety of situations. Your task is to indicate the strength\n",
      "                of your agreement with each statement, utilizing a scale in which\n",
      "                1 denotes strong disagreement, 5 denotes strong agreement, and 2,\n",
      "                3, and 4 represent intermediate judgments.\n",
      "                Submit a number from 1 to 5 from the following scale:\n",
      "\n",
      "    1. Strongly disagree\n",
      "    2. Disagree\n",
      "    3. Neither disagree nor agree\n",
      "    4. Agree\n",
      "    5. Strongly agree \n",
      "1. I see as my self as one who is talkative\n",
      "               \n",
      " \n",
      "               1. Strongly disagree\n",
      "               2. Disagree\n",
      "               3. Neither disagree nor agree\n",
      "               4. Agree\n",
      "               5. Strongly agree \n",
      "         \n",
      "\n",
      " Enter Your Choice \n",
      "4\n",
      "2. I see as my self as one who tends to find fault with others\n",
      "               \n",
      " \n",
      "               1. Strongly disagree\n",
      "               2. Disagree\n",
      "               3. Neither disagree nor agree\n",
      "               4. Agree\n",
      "               5. Strongly agree \n",
      "         \n",
      "\n",
      " Enter Your Choice \n",
      "4\n",
      "3. I see as my self as one who does a through job\n",
      "               \n",
      " \n",
      "               1. Strongly disagree\n",
      "               2. Disagree\n",
      "               3. Neither disagree nor agree\n",
      "               4. Agree\n",
      "               5. Strongly agree \n",
      "         \n",
      "\n",
      " Enter Your Choice \n",
      "2\n",
      "4. I see as my self as one who is depressed, blue.\n",
      "               \n",
      " \n",
      "               1. Strongly disagree\n",
      "               2. Disagree\n",
      "               3. Neither disagree nor agree\n",
      "               4. Agree\n",
      "               5. Strongly agree \n",
      "         \n",
      "\n",
      " Enter Your Choice \n",
      "1\n",
      "5. I see as my self as one who is original, come up with new ideas.\n",
      "               \n",
      " \n",
      "               1. Strongly disagree\n",
      "               2. Disagree\n",
      "               3. Neither disagree nor agree\n",
      "               4. Agree\n",
      "               5. Strongly agree \n",
      "         \n",
      "\n",
      " Enter Your Choice \n",
      "5\n",
      "6. I see as my self as one who is reserved\n",
      "               \n",
      " \n",
      "               1. Strongly disagree\n",
      "               2. Disagree\n",
      "               3. Neither disagree nor agree\n",
      "               4. Agree\n",
      "               5. Strongly agree \n",
      "         \n",
      "\n",
      " Enter Your Choice \n",
      "4\n",
      "7. I see as my self as one who is helpful and unselfish with others\n",
      "              \n",
      " \n",
      "               1. Strongly disagree\n",
      "               2. Disagree\n",
      "               3. Neither disagree nor agree\n",
      "               4. Agree\n",
      "               5. Strongly agree \n",
      "         \n",
      "\n",
      " Enter Your Choice \n",
      "5\n",
      "8. I see as my self as one who can be somewhat careless\n",
      "               \n",
      " \n",
      "               1. Strongly disagree\n",
      "               2. Disagree\n",
      "               3. Neither disagree nor agree\n",
      "               4. Agree\n",
      "               5. Strongly agree \n",
      "         \n",
      "\n",
      " Enter Your Choice \n",
      "4\n",
      "9. I see as my self as one who is relaxed, handles stress very well.\n",
      "               \n",
      " \n",
      "               1. Strongly disagree\n",
      "               2. Disagree\n",
      "               3. Neither disagree nor agree\n",
      "               4. Agree\n",
      "               5. Strongly agree \n",
      "         \n",
      "\n",
      " Enter Your Choice \n",
      "4\n",
      "10. I see as my self as one who is curious about many different things.\n",
      "              \n",
      " \n",
      "               1. Strongly disagree\n",
      "               2. Disagree\n",
      "               3. Neither disagree nor agree\n",
      "               4. Agree\n",
      "               5. Strongly agree \n",
      "         \n",
      "\n",
      " Enter Your Choice \n",
      "5\n",
      "11. I see as my self as one who is full of energy\n",
      "               \n",
      " \n",
      "               1. Strongly disagree\n",
      "               2. Disagree\n",
      "               3. Neither disagree nor agree\n",
      "               4. Agree\n",
      "               5. Strongly agree \n",
      "         \n",
      "\n",
      " Enter Your Choice \n",
      "5\n",
      "12. I see as my self as one who starts quarrel with others\n",
      "               \n",
      " \n",
      "               1. Strongly disagree\n",
      "               2. Disagree\n",
      "               3. Neither disagree nor agree\n",
      "               4. Agree\n",
      "               5. Strongly agree \n",
      "         \n",
      "\n",
      " Enter Your Choice \n",
      "4\n",
      "13. I see as my self as one who is a reliable worker\n",
      "               \n",
      " \n",
      "               1. Strongly disagree\n",
      "               2. Disagree\n",
      "               3. Neither disagree nor agree\n",
      "               4. Agree\n",
      "               5. Strongly agree \n",
      "         \n",
      "\n",
      " Enter Your Choice \n",
      "3\n",
      "14. I see as my self as one who can be tense\n",
      "               \n",
      " \n",
      "               1. Strongly disagree\n",
      "               2. Disagree\n",
      "               3. Neither disagree nor agree\n",
      "               4. Agree\n",
      "               5. Strongly agree \n",
      "         \n",
      "\n",
      " Enter Your Choice \n",
      "3\n",
      "15. I see as my self as one who is ingenious a deep thinker\n",
      "               \n",
      " \n",
      "               1. Strongly disagree\n",
      "               2. Disagree\n",
      "               3. Neither disagree nor agree\n",
      "               4. Agree\n",
      "               5. Strongly agree \n",
      "         \n",
      "\n",
      " Enter Your Choice \n",
      "5\n",
      "16. I see as my self as one who generates a lot of enthusiasm\n",
      "               \n",
      " \n",
      "               1. Strongly disagree\n",
      "               2. Disagree\n",
      "               3. Neither disagree nor agree\n",
      "               4. Agree\n",
      "               5. Strongly agree \n",
      "         \n",
      "\n",
      " Enter Your Choice \n",
      "2\n",
      "17. I see as my self as one who has a forgiving nature               \n",
      " \n",
      "               1. Strongly disagree\n",
      "               2. Disagree\n",
      "               3. Neither disagree nor agree\n",
      "               4. Agree\n",
      "               5. Strongly agree \n",
      "         \n",
      "\n",
      " Enter Your Choice \n",
      "4\n",
      "18. I see as my self as one who tend to be disorganized\n",
      "               \n",
      " \n",
      "               1. Strongly disagree\n",
      "               2. Disagree\n",
      "               3. Neither disagree nor agree\n",
      "               4. Agree\n",
      "               5. Strongly agree \n",
      "         \n",
      "\n",
      " Enter Your Choice \n",
      "2\n",
      "19. I see as my self as one who worries a lot\n",
      "              \n",
      " \n",
      "               1. Strongly disagree\n",
      "               2. Disagree\n",
      "               3. Neither disagree nor agree\n",
      "               4. Agree\n",
      "               5. Strongly agree \n",
      "         \n",
      "\n",
      " Enter Your Choice \n",
      "4\n",
      "20. I see as my self as one who has an active imagination\n",
      "               \n",
      " \n",
      "               1. Strongly disagree\n",
      "               2. Disagree\n",
      "               3. Neither disagree nor agree\n",
      "               4. Agree\n",
      "               5. Strongly agree \n",
      "         \n",
      "\n",
      " Enter Your Choice \n",
      "3\n",
      "21. I see as my self as one who tend to be quiet.\n",
      "\n",
      "               \n",
      " \n",
      "               1. Strongly disagree\n",
      "               2. Disagree\n",
      "               3. Neither disagree nor agree\n",
      "               4. Agree\n",
      "               5. Strongly agree \n",
      "         \n",
      "\n",
      " Enter Your Choice \n",
      "4\n",
      "22. I see as my self as one who is generally trusting\n",
      "              \n",
      " \n",
      "               1. Strongly disagree\n",
      "               2. Disagree\n",
      "               3. Neither disagree nor agree\n",
      "               4. Agree\n",
      "               5. Strongly agree \n",
      "         \n",
      "\n",
      " Enter Your Choice \n",
      "2\n",
      "23. I see as my self as one who tends to be lazy\n",
      "               \n",
      " \n",
      "               1. Strongly disagree\n",
      "               2. Disagree\n",
      "               3. Neither disagree nor agree\n",
      "               4. Agree\n",
      "               5. Strongly agree \n",
      "         \n",
      "\n",
      " Enter Your Choice \n",
      "4\n",
      "24. I see as my self as one who is emotionally stable not easily upset\n",
      "               \n",
      " \n",
      "               1. Strongly disagree\n",
      "               2. Disagree\n",
      "               3. Neither disagree nor agree\n",
      "               4. Agree\n",
      "               5. Strongly agree \n",
      "         \n",
      "\n",
      " Enter Your Choice \n",
      "2\n",
      "25. I see as my self as one who is inventive\n",
      "               \n",
      " \n",
      "               1. Strongly disagree\n",
      "               2. Disagree\n",
      "               3. Neither disagree nor agree\n",
      "               4. Agree\n",
      "               5. Strongly agree \n",
      "         \n",
      "\n",
      " Enter Your Choice \n",
      "2\n",
      "26. I see as my self as one who has an assertive personality\n",
      "               \n",
      " \n",
      "               1. Strongly disagree\n",
      "               2. Disagree\n",
      "               3. Neither disagree nor agree\n",
      "               4. Agree\n",
      "               5. Strongly agree \n",
      "         \n",
      "\n",
      " Enter Your Choice \n"
     ]
    },
    {
     "name": "stdout",
     "output_type": "stream",
     "text": [
      "4\n",
      "27. I see as my self as one who can be cold and aloof\n",
      "               \n",
      " \n",
      "               1. Strongly disagree\n",
      "               2. Disagree\n",
      "               3. Neither disagree nor agree\n",
      "               4. Agree\n",
      "               5. Strongly agree \n",
      "         \n",
      "\n",
      " Enter Your Choice \n",
      "2\n",
      "28. I see as my self as one who preserves until the task is finished\n",
      "               \n",
      " \n",
      "               1. Strongly disagree\n",
      "               2. Disagree\n",
      "               3. Neither disagree nor agree\n",
      "               4. Agree\n",
      "               5. Strongly agree \n",
      "         \n",
      "\n",
      " Enter Your Choice \n",
      "4\n",
      "29. I see as my self as one who can be moody\n",
      "               \n",
      " \n",
      "               1. Strongly disagree\n",
      "               2. Disagree\n",
      "               3. Neither disagree nor agree\n",
      "               4. Agree\n",
      "               5. Strongly agree \n",
      "         \n",
      "\n",
      " Enter Your Choice \n",
      "2\n",
      "30. I see as my self as one who values artistic, aesthetic experience\n",
      "               \n",
      " \n",
      "               1. Strongly disagree\n",
      "               2. Disagree\n",
      "               3. Neither disagree nor agree\n",
      "               4. Agree\n",
      "               5. Strongly agree \n",
      "         \n",
      "\n",
      " Enter Your Choice \n",
      "4\n",
      "31. I see as my self as one who is sometimes shy, inhibited\n",
      "              \n",
      " \n",
      "               1. Strongly disagree\n",
      "               2. Disagree\n",
      "               3. Neither disagree nor agree\n",
      "               4. Agree\n",
      "               5. Strongly agree \n",
      "         \n",
      "\n",
      " Enter Your Choice \n",
      "2\n",
      "32. I see as my self as one who is considerate and kind to almost everyone\n",
      "               \n",
      " \n",
      "               1. Strongly disagree\n",
      "               2. Disagree\n",
      "               3. Neither disagree nor agree\n",
      "               4. Agree\n",
      "               5. Strongly agree \n",
      "         \n",
      "\n",
      " Enter Your Choice \n",
      "4\n",
      "33. I see as my self as one who does things efficiently\n",
      "              \n",
      " \n",
      "               1. Strongly disagree\n",
      "               2. Disagree\n",
      "               3. Neither disagree nor agree\n",
      "               4. Agree\n",
      "               5. Strongly agree \n",
      "         \n",
      "\n",
      " Enter Your Choice \n",
      "2\n",
      "34. I see as my self as one who remains calm in tense situations\n",
      "              \n",
      " \n",
      "               1. Strongly disagree\n",
      "               2. Disagree\n",
      "               3. Neither disagree nor agree\n",
      "               4. Agree\n",
      "               5. Strongly agree \n",
      "         \n",
      "\n",
      " Enter Your Choice \n",
      "4\n",
      "35. I see as my self as one who prefers to work that is routine\n",
      "               \n",
      " \n",
      "               1. Strongly disagree\n",
      "               2. Disagree\n",
      "               3. Neither disagree nor agree\n",
      "               4. Agree\n",
      "               5. Strongly agree \n",
      "         \n",
      "\n",
      " Enter Your Choice \n",
      "2\n",
      "36. I see as my self as one who is outgoing, sociable\n",
      "              \n",
      " \n",
      "               1. Strongly disagree\n",
      "               2. Disagree\n",
      "               3. Neither disagree nor agree\n",
      "               4. Agree\n",
      "               5. Strongly agree \n",
      "         \n",
      "\n",
      " Enter Your Choice \n",
      "4\n",
      "37. I see as my self as one who is sometimes rude to others\n",
      "               \n",
      " \n",
      "               1. Strongly disagree\n",
      "               2. Disagree\n",
      "               3. Neither disagree nor agree\n",
      "               4. Agree\n",
      "               5. Strongly agree \n",
      "         \n",
      "\n",
      " Enter Your Choice \n",
      "2\n",
      "38. I see as my self as one who makes plans and follows through with them.\n",
      "              \n",
      " \n",
      "               1. Strongly disagree\n",
      "               2. Disagree\n",
      "               3. Neither disagree nor agree\n",
      "               4. Agree\n",
      "               5. Strongly agree \n",
      "         \n",
      "\n",
      " Enter Your Choice \n",
      "4\n",
      "39. I see as my self as one who gets nervous easily\n",
      "              \n",
      " \n",
      "               1. Strongly disagree\n",
      "               2. Disagree\n",
      "               3. Neither disagree nor agree\n",
      "               4. Agree\n",
      "               5. Strongly agree \n",
      "         \n",
      "\n",
      " Enter Your Choice \n",
      "1\n",
      "40. I see as my self as one who likes to reflect plays with ideas.\n",
      "               \n",
      " \n",
      "               1. Strongly disagree\n",
      "               2. Disagree\n",
      "               3. Neither disagree nor agree\n",
      "               4. Agree\n",
      "               5. Strongly agree \n",
      "         \n",
      "\n",
      " Enter Your Choice \n",
      "4\n",
      "41. I see as my self as one who has a few artistic interests\n",
      "               \n",
      " \n",
      "               1. Strongly disagree\n",
      "               2. Disagree\n",
      "               3. Neither disagree nor agree\n",
      "               4. Agree\n",
      "               5. Strongly agree \n",
      "         \n",
      "\n",
      " Enter Your Choice \n",
      "2\n",
      "42. I see as my self as one who likes to cooperate with others\n",
      "               \n",
      " \n",
      "               1. Strongly disagree\n",
      "               2. Disagree\n",
      "               3. Neither disagree nor agree\n",
      "               4. Agree\n",
      "               5. Strongly agree \n",
      "         \n",
      "\n",
      " Enter Your Choice \n",
      "4\n",
      "43. I see as my self as one who is easily distracted.\n",
      "               \n",
      " \n",
      "               1. Strongly disagree\n",
      "               2. Disagree\n",
      "               3. Neither disagree nor agree\n",
      "               4. Agree\n",
      "               5. Strongly agree \n",
      "         \n",
      "\n",
      " Enter Your Choice \n",
      "2\n",
      "44. I see as my self as one who is sophisticated in arts, music or literature.\n",
      "               \n",
      " \n",
      "               1. Strongly disagree\n",
      "               2. Disagree\n",
      "               3. Neither disagree nor agree\n",
      "               4. Agree\n",
      "               5. Strongly agree \n",
      "         \n",
      "\n",
      " Enter Your Choice \n",
      "4\n",
      "\n",
      "\n",
      " Congrats Yash  for successfully completing this test \n",
      "\n",
      " -------Your Big 5 trait Score -------- \n",
      "\n",
      "\n",
      "Extraversion 5.25\n",
      " Agreeableness 5.5\n",
      " Conscientiousness 4.5\n",
      " Neuroticism 3.25\n",
      " Openness 6.5\n"
     ]
    }
   ],
   "source": [
    "print('''  --------------------------------------------------\n",
    "           ---- WELCOME TO PERSONALITY PREDICTION SYSTEM ----\n",
    "           --------------------------------------------------\n",
    "\n",
    "          Take this psychology test to find out about your personality!\n",
    "          This test measures what many psychologists consider to be\n",
    "          the five fundamental dimensions of personality.\n",
    "\n",
    "''')\n",
    "print(\" To start quiz enter your name \\n\")\n",
    "UserName = input()\n",
    "print(\" Enter Age: \\n\")\n",
    "Age = int(input())\n",
    "print(\" Enter Gender : \\n\")\n",
    "Gender = input()\n",
    "\n",
    "def Evaluate():\n",
    "    print(''' \n",
    "               1. Strongly disagree\n",
    "               2. Disagree\n",
    "               3. Neither disagree nor agree\n",
    "               4. Agree\n",
    "               5. Strongly agree \n",
    "         ''')\n",
    "    print(\"\\n Enter Your Choice \")\n",
    "    Value = int(input())\n",
    "    if Value==1:\n",
    "        return 0\n",
    "    if Value==2:\n",
    "        return 0.25\n",
    "    if Value==3:\n",
    "        return 0.5\n",
    "    if Value==4:\n",
    "        return 0.75\n",
    "    if Value==5:\n",
    "        return 1\n",
    "    else:\n",
    "        return 0\n",
    "    \n",
    "def StartQuiz():\n",
    "    print(''' Directions: The following statements concern your perception about yourself\n",
    "                in a variety of situations. Your task is to indicate the strength\n",
    "                of your agreement with each statement, utilizing a scale in which\n",
    "                1 denotes strong disagreement, 5 denotes strong agreement, and 2,\n",
    "                3, and 4 represent intermediate judgments.\n",
    "                Submit a number from 1 to 5 from the following scale:\n",
    "\n",
    "    1. Strongly disagree\n",
    "    2. Disagree\n",
    "    3. Neither disagree nor agree\n",
    "    4. Agree\n",
    "    5. Strongly agree ''')\n",
    "    Choice=1;\n",
    "    Extraversion=0;Agreeableness=0;Conscientiousness=0;Neuroticism=0;Openness=0;\n",
    "    while Choice:\n",
    "        print('''1. I see as my self as one who is talkative\n",
    "               ''')\n",
    "        Extraversion=Extraversion+Evaluate()\n",
    "        print('''2. I see as my self as one who tends to find fault with others\n",
    "               ''')\n",
    "        Agreeableness=Agreeableness+Evaluate()\n",
    "        print('''3. I see as my self as one who does a through job\n",
    "               ''')\n",
    "        Conscientiousness=Conscientiousness+Evaluate()\n",
    "        \n",
    "        print('''4. I see as my self as one who is depressed, blue.\n",
    "               ''')\n",
    "        Neuroticism=Neuroticism+Evaluate()\n",
    "        print('''5. I see as my self as one who is original, come up with new ideas.\n",
    "               ''')\n",
    "        Openness=Openness+Evaluate()\n",
    "        print('''6. I see as my self as one who is reserved\n",
    "               ''')\n",
    "        Extraversion=Extraversion+Evaluate()\n",
    "        print('''7. I see as my self as one who is helpful and unselfish with others\n",
    "              ''')\n",
    "        Agreeableness=Agreeableness+Evaluate()\n",
    "        print('''8. I see as my self as one who can be somewhat careless\n",
    "               ''')\n",
    "        Conscientiousness=Conscientiousness+Evaluate()\n",
    "        print('''9. I see as my self as one who is relaxed, handles stress very well.\n",
    "               ''')\n",
    "        Neuroticism=Neuroticism+Evaluate()\n",
    "        print('''10. I see as my self as one who is curious about many different things.\n",
    "              ''')\n",
    "        Openness=Openness+Evaluate()\n",
    "        print('''11. I see as my self as one who is full of energy\n",
    "               ''')\n",
    "        Extraversion=Extraversion+Evaluate()\n",
    "        print('''12. I see as my self as one who starts quarrel with others\n",
    "               ''')\n",
    "        Agreeableness=Agreeableness+Evaluate()\n",
    "        print('''13. I see as my self as one who is a reliable worker\n",
    "               ''')\n",
    "        Conscientiousness=Conscientiousness+Evaluate()\n",
    "        print('''14. I see as my self as one who can be tense\n",
    "               ''')\n",
    "        Neuroticism=Neuroticism+Evaluate()\n",
    "        print('''15. I see as my self as one who is ingenious a deep thinker\n",
    "               ''')\n",
    "        Openness=Openness+Evaluate()\n",
    "        print('''16. I see as my self as one who generates a lot of enthusiasm\n",
    "               ''')\n",
    "        Extraversion=Extraversion+Evaluate()\n",
    "        print('''17. I see as my self as one who has a forgiving nature               ''')\n",
    "        Agreeableness=Agreeableness+Evaluate()\n",
    "        print('''18. I see as my self as one who tend to be disorganized\n",
    "               ''')\n",
    "        Conscientiousness=Conscientiousness+Evaluate()\n",
    "        print('''19. I see as my self as one who worries a lot\n",
    "              ''')\n",
    "        Neuroticism=Neuroticism+Evaluate()\n",
    "        print('''20. I see as my self as one who has an active imagination\n",
    "               ''')\n",
    "        Openness=Openness+Evaluate()\n",
    "        print('''21. I see as my self as one who tend to be quiet.\n",
    "\n",
    "               ''')\n",
    "        Extraversion=Extraversion+Evaluate()\n",
    "        print('''22. I see as my self as one who is generally trusting\n",
    "              ''')\n",
    "        Agreeableness=Agreeableness+Evaluate()\n",
    "        print('''23. I see as my self as one who tends to be lazy\n",
    "               ''')\n",
    "        Conscientiousness=Conscientiousness+Evaluate()\n",
    "        print('''24. I see as my self as one who is emotionally stable not easily upset\n",
    "               ''')\n",
    "        Neuroticism=Neuroticism+Evaluate()\n",
    "        print('''25. I see as my self as one who is inventive\n",
    "               ''')\n",
    "        Openness=Openness+Evaluate()\n",
    "        print('''26. I see as my self as one who has an assertive personality\n",
    "               ''')\n",
    "        Extraversion=Extraversion+Evaluate()\n",
    "        print('''27. I see as my self as one who can be cold and aloof\n",
    "               ''')\n",
    "        Agreeableness=Agreeableness+Evaluate()\n",
    "        print('''28. I see as my self as one who preserves until the task is finished\n",
    "               ''')\n",
    "        Conscientiousness=Conscientiousness+Evaluate()\n",
    "        print('''29. I see as my self as one who can be moody\n",
    "               ''')\n",
    "        Neuroticism=Neuroticism+Evaluate()\n",
    "        print('''30. I see as my self as one who values artistic, aesthetic experience\n",
    "               ''')\n",
    "        Openness=Openness+Evaluate()\n",
    "        print('''31. I see as my self as one who is sometimes shy, inhibited\n",
    "              ''')\n",
    "        Extraversion=Extraversion+Evaluate()\n",
    "        print('''32. I see as my self as one who is considerate and kind to almost everyone\n",
    "               ''')\n",
    "        Agreeableness=Agreeableness+Evaluate()\n",
    "        print('''33. I see as my self as one who does things efficiently\n",
    "              ''')\n",
    "        Conscientiousness=Conscientiousness+Evaluate()\n",
    "        print('''34. I see as my self as one who remains calm in tense situations\n",
    "              ''')\n",
    "        Neuroticism=Neuroticism+Evaluate()\n",
    "        print('''35. I see as my self as one who prefers to work that is routine\n",
    "               ''')\n",
    "        Openness=Openness+Evaluate()\n",
    "        print('''36. I see as my self as one who is outgoing, sociable\n",
    "              ''')\n",
    "        Extraversion=Extraversion+Evaluate()\n",
    "        print('''37. I see as my self as one who is sometimes rude to others\n",
    "               ''') \n",
    "        Agreeableness=Agreeableness+Evaluate()\n",
    "        print('''38. I see as my self as one who makes plans and follows through with them.\n",
    "              ''') \n",
    "        Conscientiousness=Conscientiousness+Evaluate()\n",
    "        print('''39. I see as my self as one who gets nervous easily\n",
    "              ''')\n",
    "        Neuroticism=Neuroticism+Evaluate()\n",
    "        print('''40. I see as my self as one who likes to reflect plays with ideas.\n",
    "               ''')\n",
    "        Openness=Openness+Evaluate()\n",
    "        print('''41. I see as my self as one who has a few artistic interests\n",
    "               ''')\n",
    "        Openness=Openness+Evaluate()\n",
    "        print('''42. I see as my self as one who likes to cooperate with others\n",
    "               ''')\n",
    "        Agreeableness=Agreeableness+Evaluate()\n",
    "        print('''43. I see as my self as one who is easily distracted.\n",
    "               ''')\n",
    "        Conscientiousness=Conscientiousness+Evaluate()\n",
    "        print('''44. I see as my self as one who is sophisticated in arts, music or literature.\n",
    "               ''')\n",
    "        Openness=Openness+Evaluate()\n",
    "        print('\\n\\n Congrats '+UserName+' for successfully completing this test \\n\\n -------Your \n",
    "              Big 5 trait Score -------- \\n\\n')\n",
    "        print('Extraversion '+str(Extraversion)+'\\n Agreeableness '+str(Agreeableness)+'\\n \n",
    "              Conscientiousness '+str(Conscientiousness)+'\\n Neuroticism '+str(Neuroticism)+'\\n Openness \n",
    "              '+str(Openness))\n",
    "        Choice=0\n",
    "            \n",
    "         \n",
    "        \n",
    "\n",
    "\n",
    "print(\"\\n \\n Hello \"+UserName+\" Your details are as follows \\n Age \"+str(Age)+\"\\n Gender \"+Gender)\n",
    "print(\"You can start the test now \\n\")\n",
    "StartQuiz()\n",
    "    "
   ]
  },
  {
   "cell_type": "code",
   "execution_count": null,
   "metadata": {},
   "outputs": [],
   "source": []
  },
  {
   "cell_type": "code",
   "execution_count": null,
   "metadata": {},
   "outputs": [],
   "source": []
  }
 ],
 "metadata": {
  "kernelspec": {
   "display_name": "Python 3",
   "language": "python",
   "name": "python3"
  },
  "language_info": {
   "codemirror_mode": {
    "name": "ipython",
    "version": 3
   },
   "file_extension": ".py",
   "mimetype": "text/x-python",
   "name": "python",
   "nbconvert_exporter": "python",
   "pygments_lexer": "ipython3",
   "version": "3.7.3"
  }
 },
 "nbformat": 4,
 "nbformat_minor": 2
}
